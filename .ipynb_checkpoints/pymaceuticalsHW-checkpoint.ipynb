{
 "cells": [
  {
   "cell_type": "markdown",
   "metadata": {},
   "source": [
    "## Observations and Insights"
   ]
  },
  {
   "cell_type": "markdown",
   "metadata": {},
   "source": []
  },
  {
   "cell_type": "code",
   "execution_count": null,
   "metadata": {},
   "outputs": [],
   "source": [
    "# OBSERVATIONS:\n",
    "# 1. There is a strong positive correlation (.84) between average tumor size and mouse weight.\n",
    "#    The heavier the mouse, the larger its tumor will likely be.\n",
    "# 2. There were more Capomulin and Ramicane tests than test of other drugs. \n",
    "# 3. Mouse x401 experinced a periods of rapid tumor shinking, followed by small upticks in volume."
   ]
  },
  {
   "cell_type": "markdown",
   "metadata": {},
   "source": [
    "## Dependencies and starter code"
   ]
  },
  {
   "cell_type": "code",
   "execution_count": 2,
   "metadata": {},
   "outputs": [
    {
     "data": {
      "text/html": [
       "<div>\n",
       "<style scoped>\n",
       "    .dataframe tbody tr th:only-of-type {\n",
       "        vertical-align: middle;\n",
       "    }\n",
       "\n",
       "    .dataframe tbody tr th {\n",
       "        vertical-align: top;\n",
       "    }\n",
       "\n",
       "    .dataframe thead th {\n",
       "        text-align: right;\n",
       "    }\n",
       "</style>\n",
       "<table border=\"1\" class=\"dataframe\">\n",
       "  <thead>\n",
       "    <tr style=\"text-align: right;\">\n",
       "      <th></th>\n",
       "      <th>Mouse ID</th>\n",
       "      <th>Drug Regimen</th>\n",
       "      <th>Sex</th>\n",
       "      <th>Age_months</th>\n",
       "      <th>Weight (g)</th>\n",
       "      <th>Timepoint</th>\n",
       "      <th>Tumor Volume (mm3)</th>\n",
       "      <th>Metastatic Sites</th>\n",
       "    </tr>\n",
       "  </thead>\n",
       "  <tbody>\n",
       "    <tr>\n",
       "      <td>0</td>\n",
       "      <td>k403</td>\n",
       "      <td>Ramicane</td>\n",
       "      <td>Male</td>\n",
       "      <td>21</td>\n",
       "      <td>16</td>\n",
       "      <td>0</td>\n",
       "      <td>45.000000</td>\n",
       "      <td>0</td>\n",
       "    </tr>\n",
       "    <tr>\n",
       "      <td>1</td>\n",
       "      <td>k403</td>\n",
       "      <td>Ramicane</td>\n",
       "      <td>Male</td>\n",
       "      <td>21</td>\n",
       "      <td>16</td>\n",
       "      <td>5</td>\n",
       "      <td>38.825898</td>\n",
       "      <td>0</td>\n",
       "    </tr>\n",
       "    <tr>\n",
       "      <td>2</td>\n",
       "      <td>k403</td>\n",
       "      <td>Ramicane</td>\n",
       "      <td>Male</td>\n",
       "      <td>21</td>\n",
       "      <td>16</td>\n",
       "      <td>10</td>\n",
       "      <td>35.014271</td>\n",
       "      <td>1</td>\n",
       "    </tr>\n",
       "    <tr>\n",
       "      <td>3</td>\n",
       "      <td>k403</td>\n",
       "      <td>Ramicane</td>\n",
       "      <td>Male</td>\n",
       "      <td>21</td>\n",
       "      <td>16</td>\n",
       "      <td>15</td>\n",
       "      <td>34.223992</td>\n",
       "      <td>1</td>\n",
       "    </tr>\n",
       "    <tr>\n",
       "      <td>4</td>\n",
       "      <td>k403</td>\n",
       "      <td>Ramicane</td>\n",
       "      <td>Male</td>\n",
       "      <td>21</td>\n",
       "      <td>16</td>\n",
       "      <td>20</td>\n",
       "      <td>32.997729</td>\n",
       "      <td>1</td>\n",
       "    </tr>\n",
       "  </tbody>\n",
       "</table>\n",
       "</div>"
      ],
      "text/plain": [
       "  Mouse ID Drug Regimen   Sex  Age_months  Weight (g)  Timepoint  \\\n",
       "0     k403     Ramicane  Male          21          16          0   \n",
       "1     k403     Ramicane  Male          21          16          5   \n",
       "2     k403     Ramicane  Male          21          16         10   \n",
       "3     k403     Ramicane  Male          21          16         15   \n",
       "4     k403     Ramicane  Male          21          16         20   \n",
       "\n",
       "   Tumor Volume (mm3)  Metastatic Sites  \n",
       "0           45.000000                 0  \n",
       "1           38.825898                 0  \n",
       "2           35.014271                 1  \n",
       "3           34.223992                 1  \n",
       "4           32.997729                 1  "
      ]
     },
     "execution_count": 2,
     "metadata": {},
     "output_type": "execute_result"
    }
   ],
   "source": [
    "# Dependencies and Setup\n",
    "import matplotlib.pyplot as plt\n",
    "import pandas as pd\n",
    "import numpy as np\n",
    "import scipy.stats as st\n",
    "\n",
    "# Study data files\n",
    "mouse_metadata = \"data/Mouse_metadata.csv\"\n",
    "study_results = \"data/Study_results.csv\"\n",
    "\n",
    "# Read the mouse data and the study results\n",
    "mouse_metadata = pd.read_csv(mouse_metadata)\n",
    "study_results = pd.read_csv(study_results)\n",
    "\n",
    "# Combine the data into a single dataset\n",
    "merged_data = pd.merge(mouse_metadata,study_results,on=\"Mouse ID\")\n",
    "merged_data.head()"
   ]
  },
  {
   "cell_type": "markdown",
   "metadata": {},
   "source": [
    "## Summary statistics"
   ]
  },
  {
   "cell_type": "code",
   "execution_count": 3,
   "metadata": {},
   "outputs": [
    {
     "data": {
      "text/html": [
       "<div>\n",
       "<style scoped>\n",
       "    .dataframe tbody tr th:only-of-type {\n",
       "        vertical-align: middle;\n",
       "    }\n",
       "\n",
       "    .dataframe tbody tr th {\n",
       "        vertical-align: top;\n",
       "    }\n",
       "\n",
       "    .dataframe thead th {\n",
       "        text-align: right;\n",
       "    }\n",
       "</style>\n",
       "<table border=\"1\" class=\"dataframe\">\n",
       "  <thead>\n",
       "    <tr style=\"text-align: right;\">\n",
       "      <th></th>\n",
       "      <th>Tumor Volume Mean</th>\n",
       "      <th>Tumor Volume Median</th>\n",
       "      <th>Tumor Volume Variance</th>\n",
       "      <th>Tumor Volume standard deviation</th>\n",
       "      <th>Tumor Volume SEM</th>\n",
       "    </tr>\n",
       "    <tr>\n",
       "      <th>Drug Regimen</th>\n",
       "      <th></th>\n",
       "      <th></th>\n",
       "      <th></th>\n",
       "      <th></th>\n",
       "      <th></th>\n",
       "    </tr>\n",
       "  </thead>\n",
       "  <tbody>\n",
       "    <tr>\n",
       "      <td>Capomulin</td>\n",
       "      <td>40.675741</td>\n",
       "      <td>41.557809</td>\n",
       "      <td>24.947764</td>\n",
       "      <td>4.994774</td>\n",
       "      <td>0.329346</td>\n",
       "    </tr>\n",
       "    <tr>\n",
       "      <td>Ceftamin</td>\n",
       "      <td>52.591172</td>\n",
       "      <td>51.776157</td>\n",
       "      <td>39.290177</td>\n",
       "      <td>6.268188</td>\n",
       "      <td>0.469821</td>\n",
       "    </tr>\n",
       "    <tr>\n",
       "      <td>Infubinol</td>\n",
       "      <td>52.884795</td>\n",
       "      <td>51.820584</td>\n",
       "      <td>43.128684</td>\n",
       "      <td>6.567243</td>\n",
       "      <td>0.492236</td>\n",
       "    </tr>\n",
       "    <tr>\n",
       "      <td>Ketapril</td>\n",
       "      <td>55.235638</td>\n",
       "      <td>53.698743</td>\n",
       "      <td>68.553577</td>\n",
       "      <td>8.279709</td>\n",
       "      <td>0.603860</td>\n",
       "    </tr>\n",
       "    <tr>\n",
       "      <td>Naftisol</td>\n",
       "      <td>54.331565</td>\n",
       "      <td>52.509285</td>\n",
       "      <td>66.173479</td>\n",
       "      <td>8.134708</td>\n",
       "      <td>0.596466</td>\n",
       "    </tr>\n",
       "    <tr>\n",
       "      <td>Placebo</td>\n",
       "      <td>54.033581</td>\n",
       "      <td>52.288934</td>\n",
       "      <td>61.168083</td>\n",
       "      <td>7.821003</td>\n",
       "      <td>0.581331</td>\n",
       "    </tr>\n",
       "    <tr>\n",
       "      <td>Propriva</td>\n",
       "      <td>52.322552</td>\n",
       "      <td>50.854632</td>\n",
       "      <td>42.351070</td>\n",
       "      <td>6.507770</td>\n",
       "      <td>0.512884</td>\n",
       "    </tr>\n",
       "    <tr>\n",
       "      <td>Ramicane</td>\n",
       "      <td>40.216745</td>\n",
       "      <td>40.673236</td>\n",
       "      <td>23.486704</td>\n",
       "      <td>4.846308</td>\n",
       "      <td>0.320955</td>\n",
       "    </tr>\n",
       "    <tr>\n",
       "      <td>Stelasyn</td>\n",
       "      <td>54.233149</td>\n",
       "      <td>52.431737</td>\n",
       "      <td>59.450562</td>\n",
       "      <td>7.710419</td>\n",
       "      <td>0.573111</td>\n",
       "    </tr>\n",
       "    <tr>\n",
       "      <td>Zoniferol</td>\n",
       "      <td>53.236507</td>\n",
       "      <td>51.818479</td>\n",
       "      <td>48.533355</td>\n",
       "      <td>6.966589</td>\n",
       "      <td>0.516398</td>\n",
       "    </tr>\n",
       "  </tbody>\n",
       "</table>\n",
       "</div>"
      ],
      "text/plain": [
       "              Tumor Volume Mean  Tumor Volume Median  Tumor Volume Variance  \\\n",
       "Drug Regimen                                                                  \n",
       "Capomulin             40.675741            41.557809              24.947764   \n",
       "Ceftamin              52.591172            51.776157              39.290177   \n",
       "Infubinol             52.884795            51.820584              43.128684   \n",
       "Ketapril              55.235638            53.698743              68.553577   \n",
       "Naftisol              54.331565            52.509285              66.173479   \n",
       "Placebo               54.033581            52.288934              61.168083   \n",
       "Propriva              52.322552            50.854632              42.351070   \n",
       "Ramicane              40.216745            40.673236              23.486704   \n",
       "Stelasyn              54.233149            52.431737              59.450562   \n",
       "Zoniferol             53.236507            51.818479              48.533355   \n",
       "\n",
       "              Tumor Volume standard deviation  Tumor Volume SEM  \n",
       "Drug Regimen                                                     \n",
       "Capomulin                            4.994774          0.329346  \n",
       "Ceftamin                             6.268188          0.469821  \n",
       "Infubinol                            6.567243          0.492236  \n",
       "Ketapril                             8.279709          0.603860  \n",
       "Naftisol                             8.134708          0.596466  \n",
       "Placebo                              7.821003          0.581331  \n",
       "Propriva                             6.507770          0.512884  \n",
       "Ramicane                             4.846308          0.320955  \n",
       "Stelasyn                             7.710419          0.573111  \n",
       "Zoniferol                            6.966589          0.516398  "
      ]
     },
     "execution_count": 3,
     "metadata": {},
     "output_type": "execute_result"
    }
   ],
   "source": [
    "# Generate a summary statistics table of mean, median, variance, \n",
    "# standard deviation, and SEM of the tumor volume for each regimen\n",
    "drug_data = merged_data.groupby(\"Drug Regimen\")\n",
    "tumor_mean = drug_data[\"Tumor Volume (mm3)\"].mean()\n",
    "tumor_median = drug_data[\"Tumor Volume (mm3)\"].median()\n",
    "tumor_var = drug_data[\"Tumor Volume (mm3)\"].var()\n",
    "tumor_std = drug_data[\"Tumor Volume (mm3)\"].std()\n",
    "tumor_sem = drug_data[\"Tumor Volume (mm3)\"].sem()\n",
    "\n",
    "# Create new DF of summary data and display\n",
    "summary = pd.DataFrame({\"Tumor Volume Mean\":tumor_mean,\n",
    "                        \"Tumor Volume Median\":tumor_median,\n",
    "                        \"Tumor Volume Variance\":tumor_var,\n",
    "                        \"Tumor Volume standard deviation\":tumor_std, \n",
    "                        \"Tumor Volume SEM\":tumor_sem\n",
    "                       })\n",
    "summary"
   ]
  },
  {
   "cell_type": "markdown",
   "metadata": {},
   "source": [
    "## Bar plots"
   ]
  },
  {
   "cell_type": "code",
   "execution_count": 4,
   "metadata": {},
   "outputs": [
    {
     "data": {
      "text/plain": [
       "<matplotlib.axes._subplots.AxesSubplot at 0x120dad550>"
      ]
     },
     "execution_count": 4,
     "metadata": {},
     "output_type": "execute_result"
    },
    {
     "data": {
      "image/png": "[encoded data removed]",
      "text/plain": [
       "<Figure size 432x288 with 1 Axes>"
      ]
     },
     "metadata": {
      "needs_background": "light"
     },
     "output_type": "display_data"
    }
   ],
   "source": [
    "# Generate a bar plot showing number of data points for each treatment regimen using pandas\n",
    "\n",
    "# Create series of the size of each drug regimen\n",
    "drug_datapoints = drug_data.size()\n",
    "\n",
    "# Plot the series as a bar graph \n",
    "drug_bar = drug_datapoints.plot(kind='bar')\n",
    "plt.ylabel(\"Number of Data Points\")\n",
    "plt.suptitle(\"Number of Data Points per Drug Regimen\")\n",
    "drug_bar"
   ]
  },
  {
   "cell_type": "code",
   "execution_count": 5,
   "metadata": {},
   "outputs": [
    {
     "data": {
      "image/png": "[encoded data removed]",
      "text/plain": [
       "<Figure size 432x288 with 1 Axes>"
      ]
     },
     "metadata": {
      "needs_background": "light"
     },
     "output_type": "display_data"
    }
   ],
   "source": [
    "# Generate a bar plot showing number of data points for each treatment regimen using pyplot\n",
    "\n",
    "# Create list of all drugs to be used as x ticks\n",
    "drugs = ['Capomulin','Ceftamin','Infubinol','Ketapril','Naftisol',\n",
    "         'Placebo','Propriva','Ramicane','Stelasyn','Zoniferol']\n",
    "\n",
    "# Get number of x values using Numpy\n",
    "x_axis = np.arange(len(drugs))\n",
    "\n",
    "# Create bar graph with x_axis and drug size series and format\n",
    "plt.bar(x_axis,drug_datapoints,width=.5)\n",
    "\n",
    "# Replace x value number with corresponding number in 'drugs' list\n",
    "plt.xticks(x_axis,drugs,rotation=90)\n",
    "\n",
    "# Label x and y axis and give graph a title\n",
    "plt.xlabel(\"Drug Regimen\")\n",
    "plt.ylabel(\"Number of Data Points\")\n",
    "plt.suptitle(\"Number of Data Points per Drug Regimen\")\n",
    "\n",
    "# Display graph\n",
    "plt.show()"
   ]
  },
  {
   "cell_type": "markdown",
   "metadata": {},
   "source": [
    "## Pie plots"
   ]
  },
  {
   "cell_type": "code",
   "execution_count": 6,
   "metadata": {},
   "outputs": [
    {
     "data": {
      "text/plain": [
       "<matplotlib.axes._subplots.AxesSubplot at 0x1a25ab8290>"
      ]
     },
     "execution_count": 6,
     "metadata": {},
     "output_type": "execute_result"
    },
    {
     "data": {
      "image/png": "[encoded data removed]",
      "text/plain": [
       "<Figure size 432x288 with 1 Axes>"
      ]
     },
     "metadata": {},
     "output_type": "display_data"
    }
   ],
   "source": [
    "# Generate a pie plot showing the distribution of female versus male mice using pandas\n",
    "\n",
    "# Drop rows with repeated Mouse ID\n",
    "# Removed because mouse_metadata already has this information\n",
    "# mice = merged_data.drop_duplicates(subset=[\"Mouse ID\"], keep='first')\n",
    "\n",
    "# Create formatting - colors and which slice to explode\n",
    "explode = (0.1, 0) \n",
    "colors= [\"pink\",\"skyblue\"]\n",
    "\n",
    "# Make new series by grouping new DF by 'Sex' and calculating the how many of each using the size() function\n",
    "mice_sex = mouse_metadata.groupby(\"Sex\").size()\n",
    "\n",
    "# Plot the series as a pir chart using Pandas, setting most formatting in one line\n",
    "mice_chart = mice_sex.plot(kind=\"pie\",autopct='%1.1f%%',explode=explode,shadow=True,startangle=90,colors=colors)\n",
    "plt.title(\"Percentage of Mice by Sex\")\n",
    "plt.ylabel(\"\")\n",
    "\n",
    "# Display chart\n",
    "mice_chart"
   ]
  },
  {
   "cell_type": "code",
   "execution_count": 7,
   "metadata": {},
   "outputs": [
    {
     "data": {
      "text/plain": [
       "Text(0.5, 1.0, 'Percentage of Mice by Sex')"
      ]
     },
     "execution_count": 7,
     "metadata": {},
     "output_type": "execute_result"
    },
    {
     "data": {
      "image/png": "[encoded data removed]",
      "text/plain": [
       "<Figure size 432x288 with 1 Axes>"
      ]
     },
     "metadata": {},
     "output_type": "display_data"
    }
   ],
   "source": [
    "# Generate a pie plot showing the distribution of female versus male mice using pyplot\n",
    "\n",
    "# Create labels\n",
    "labels = \"Female\",\"Male\"\n",
    "\n",
    "# Using label and formatting information, plot the 'mice_sex' series using matplotlib\n",
    "plt.pie(mice_sex, explode=explode,labels=labels,autopct='%1.1f%%',shadow=True,startangle=90,colors=colors)\n",
    "plt.title(\"Percentage of Mice by Sex\")"
   ]
  },
  {
   "cell_type": "code",
   "execution_count": 8,
   "metadata": {},
   "outputs": [
    {
     "data": {
      "text/plain": [
       "array(['Ramicane', 'Capomulin', 'Infubinol', 'Placebo', 'Ceftamin',\n",
       "       'Stelasyn', 'Zoniferol', 'Ketapril', 'Propriva', 'Naftisol'],\n",
       "      dtype=object)"
      ]
     },
     "execution_count": 8,
     "metadata": {},
     "output_type": "execute_result"
    }
   ],
   "source": [
    "# A reference for drug names so I don't have to scroll up\n",
    "merged_data[\"Drug Regimen\"].unique()"
   ]
  },
  {
   "cell_type": "markdown",
   "metadata": {},
   "source": [
    "## Quartiles, outliers and boxplots"
   ]
  },
  {
   "cell_type": "code",
   "execution_count": 9,
   "metadata": {},
   "outputs": [
    {
     "name": "stdout",
     "output_type": "stream",
     "text": [
      "The lower quartile of Final Tumor Volume is: 33.48\n",
      "The upper quartile of Final Tumor Volume is: 62.142\n",
      "The interquartile range of Final Tumor Volume is: 28.662\n",
      "The the median of Final Tumor Volume is: 40.159\n",
      "Values below -9.513 could be outliers.\n",
      "Values above 105.135 could be outliers.\n"
     ]
    }
   ],
   "source": [
    "# Calculate the final tumor volume of each mouse across four of the most promising treatment regimens ... \n",
    "# Capomulin, Ramicane, Infubinol, and Ceftamin. \n",
    "\n",
    "# Create a list of the most promising drug regimens\n",
    "best_drugs = [\"Capomulin\", \"Ramicane\", \"Infubinol\", \"Ceftamin\"]\n",
    "\n",
    "# Create new DF pulling rows from the 'merged_data' with a the maximum (final) 'Timepoint'\n",
    "final_tumor_data = merged_data.loc[merged_data[\"Timepoint\"]==45]\n",
    "\n",
    "# Drop all drug regimens that aren't the four best \n",
    "# There's a much better way to do this .....\n",
    "final_tumor_data = final_tumor_data.loc[final_tumor_data[\"Drug Regimen\"] != \"Placebo\"]\n",
    "final_tumor_data = final_tumor_data.loc[final_tumor_data[\"Drug Regimen\"] != \"Stelasyn\"]\n",
    "final_tumor_data = final_tumor_data.loc[final_tumor_data[\"Drug Regimen\"] != \"Zoniferol\"]\n",
    "final_tumor_data = final_tumor_data.loc[final_tumor_data[\"Drug Regimen\"] != \"Ketapril\"]\n",
    "final_tumor_data = final_tumor_data.loc[final_tumor_data[\"Drug Regimen\"] != \"Propriva\"]\n",
    "final_tumor_data = final_tumor_data.loc[final_tumor_data[\"Drug Regimen\"] != \"Naftisol\"]\n",
    "\n",
    "# Set the DF's index to Mouse ID\n",
    "# final_tumor_data = final_tumor_data.set_index(\"Drug Regimen\")\n",
    "\n",
    "# Create a series of final tumor volumes\n",
    "final_tumor = final_tumor_data[\"Tumor Volume (mm3)\"]\n",
    "\n",
    "# Calculate the quartiles and IQR and quantitatively ...\n",
    "# determine if there are any potential outliers across all four treatment regimens.\n",
    "# Calculate the IQR and quantitatively determine if there are any potential outliers. \n",
    "\n",
    "# Set quantile range\n",
    "quartiles = final_tumor.quantile([.25,.5,.75])\n",
    "\n",
    "# Set lower quantile\n",
    "lq = quartiles[0.25]\n",
    "\n",
    "# Set upper quantile\n",
    "uq = quartiles[0.75]\n",
    "\n",
    "# Caluculate interquartile range by subtracting lower quantile from upper\n",
    "iqr = uq-lq\n",
    "\n",
    "# Disply quantile information \n",
    "print(f\"The lower quartile of Final Tumor Volume is: {round(lq,3)}\")\n",
    "print(f\"The upper quartile of Final Tumor Volume is: {round(uq,3)}\")\n",
    "print(f\"The interquartile range of Final Tumor Volume is: {round(iqr,3)}\")\n",
    "print(f\"The the median of Final Tumor Volume is: {round(quartiles[0.5],3)}\")\n",
    "\n",
    "# Calculate the lower/upper bounds and display information\n",
    "lower_bound = lq - (1.5*iqr)\n",
    "upper_bound = uq + (1.5*iqr)\n",
    "print(f\"Values below {round(lower_bound,3)} could be outliers.\")\n",
    "print(f\"Values above {round(upper_bound,3)} could be outliers.\")"
   ]
  },
  {
   "cell_type": "code",
   "execution_count": 14,
   "metadata": {},
   "outputs": [
    {
     "data": {
      "text/plain": [
       "Text(0.5, 1.0, '')"
      ]
     },
     "execution_count": 14,
     "metadata": {},
     "output_type": "execute_result"
    },
    {
     "data": {
      "image/png": "[encoded data removed]",
      "text/plain": [
       "<Figure size 432x288 with 1 Axes>"
      ]
     },
     "metadata": {
      "needs_background": "light"
     },
     "output_type": "display_data"
    }
   ],
   "source": [
    "# Generate a box plot of the final tumor volume of each mouse across four regimens of interest\n",
    "box_plot = final_tumor_data.boxplot(by='Drug Regimen', column=['Tumor Volume (mm3)'], grid=False)\n",
    "plt.ylabel(\"Final Tumor Volume\")\n",
    "plt.title('')"
   ]
  },
  {
   "cell_type": "markdown",
   "metadata": {},
   "source": [
    "## Line and scatter plots"
   ]
  },
  {
   "cell_type": "code",
   "execution_count": 20,
   "metadata": {},
   "outputs": [
    {
     "data": {
      "text/plain": [
       "(25, 46)"
      ]
     },
     "execution_count": 20,
     "metadata": {},
     "output_type": "execute_result"
    },
    {
     "data": {
      "image/png": "[encoded data removed]",
      "text/plain": [
       "<Figure size 432x288 with 1 Axes>"
      ]
     },
     "metadata": {
      "needs_background": "light"
     },
     "output_type": "display_data"
    }
   ],
   "source": [
    "# Generate a line plot of time point versus tumor volume for a mouse treated with Capomulin\n",
    "\n",
    "# Set variable to a Mouse ID\n",
    "mouse = \"x401\"\n",
    "\n",
    "# Create series of tumor volumes from merged_data DF where 'Mouse ID' equals the 'mouse' variable using loc()\n",
    "tumor_mouse = merged_data.loc[merged_data[\"Mouse ID\"] == mouse, [\"Tumor Volume (mm3)\"]]\n",
    "\n",
    "# Create series of timepoints from merged_data DF where 'Mouse ID' equals the 'mouse' variable using loc()\n",
    "time = merged_data.loc[merged_data[\"Mouse ID\"] == mouse, [\"Timepoint\"]]\n",
    "\n",
    "# Plot a line graph using matplotlib, with time as the x axis and tumor volume as the y axis, and format\n",
    "plt.plot(time, tumor_mouse,'g')\n",
    "plt.xlabel(\"Time\")\n",
    "plt.ylabel(\"Tumor Volume (mm3)\")\n",
    "\n",
    "# Make descriptive graph title using the the 'mouse' variable \n",
    "plt.suptitle(f\"Tumor Volume Over Time for Mouse {mouse}\")\n",
    "\n",
    "# Set x axis limit\n",
    "plt.xlim(0,45)\n",
    "plt.ylim(25,46)"
   ]
  },
  {
   "cell_type": "code",
   "execution_count": 16,
   "metadata": {},
   "outputs": [
    {
     "data": {
      "text/plain": [
       "Text(0, 0.5, 'Average Tumor Volume (mm3)')"
      ]
     },
     "execution_count": 16,
     "metadata": {},
     "output_type": "execute_result"
    },
    {
     "data": {
      "image/png": "[encoded data removed]",
      "text/plain": [
       "<Figure size 432x288 with 1 Axes>"
      ]
     },
     "metadata": {
      "needs_background": "light"
     },
     "output_type": "display_data"
    }
   ],
   "source": [
    "# Generate a scatter plot of mouse weight versus average tumor volume for the Capomulin regimen\n",
    "\n",
    "# Create DF from merged_data where the 'Drug Regimen' is  'Capomulin'\n",
    "capomulin = merged_data.loc[merged_data[\"Drug Regimen\"] == \"Capomulin\"]\n",
    "\n",
    "# Create a series of average tumor volume by grouping the new DF by 'Mouse ID' and running the mean() function \n",
    "tumor_means = capomulin.groupby(\"Mouse ID\")[\"Tumor Volume (mm3)\"].mean()\n",
    "\n",
    "# Sort the index of the new series\n",
    "tumor_means = tumor_means.sort_index()\n",
    "\n",
    "# Create another DF using unique Mouse IDs \n",
    "weight = capomulin.drop_duplicates(subset=[\"Mouse ID\"], keep='first')\n",
    "\n",
    "# Create second series by pulling the weight information for each individual mouse\n",
    "weight = weight.set_index(\"Mouse ID\")[\"Weight (g)\"]\n",
    "\n",
    "# Sort this index as well to align the both series\n",
    "weight = weight.sort_index()\n",
    "\n",
    "# Generate scatter plot with matplotlib, using 'weight' and 'tumor_means' as x and y respectively, and format\n",
    "plt.scatter(weight,tumor_means,color='purple')\n",
    "plt.suptitle(\"Average Tumor Volume by Mouse Weight\")\n",
    "plt.xlabel(\"Weight (g)\")\n",
    "plt.ylabel(\"Average Tumor Volume (mm3)\")"
   ]
  },
  {
   "cell_type": "code",
   "execution_count": 17,
   "metadata": {},
   "outputs": [
    {
     "name": "stdout",
     "output_type": "stream",
     "text": [
      "The correlation is 0.84\n"
     ]
    },
    {
     "data": {
      "image/png": "[encoded data removed]",
      "text/plain": [
       "<Figure size 432x288 with 1 Axes>"
      ]
     },
     "metadata": {
      "needs_background": "light"
     },
     "output_type": "display_data"
    }
   ],
   "source": [
    "# Calculate the correlation coefficient and linear regression model \n",
    "# for mouse weight and average tumor volume for the Capomulin regimen\n",
    "\n",
    "# Using scipy.stats' pearsonr() function, calculate the scatter plot's correlation and display\n",
    "correlation = st.pearsonr(weight,tumor_means)\n",
    "print(f'The correlation is {round(correlation[0],2)}')\n",
    "\n",
    "# Use scipy.stats' linregress() function and set output to variables\n",
    "(slope, intercept, rvalue, pvalue, stderr) = st.linregress(weight, tumor_means)\n",
    "\n",
    "# Calcualte linear regression and set 'lineeq' variable for annotation\n",
    "regress_values = weight * slope + intercept\n",
    "lineeq = \"y = \" + str(round(slope,2)) + \"x + \" + str(round(intercept,2))\n",
    "\n",
    "# Plot the scatter plot\n",
    "plt.scatter(weight,tumor_means)\n",
    "\n",
    "# Plot the regress line \n",
    "plt.plot(weight,regress_values,\"r-\")\n",
    "\n",
    "# Add lineeq as annotation and format graph\n",
    "plt.annotate(lineeq,(20,36),color='red',fontsize=15)\n",
    "plt.suptitle(\"Average Tumor Volume by Mouse Weight\")\n",
    "plt.xlabel(\"Weight (g)\")\n",
    "plt.ylabel(\"Average Tumor Volume (mm3)\")\n",
    "plt.show()"
   ]
  },
  {
   "cell_type": "code",
   "execution_count": null,
   "metadata": {},
   "outputs": [],
   "source": []
  }
 ],
 "metadata": {
  "anaconda-cloud": {},
  "kernelspec": {
   "display_name": "Python 3",
   "language": "python",
   "name": "python3"
  },
  "language_info": {
   "codemirror_mode": {
    "name": "ipython",
    "version": 3
   },
   "file_extension": ".py",
   "mimetype": "text/x-python",
   "name": "python",
   "nbconvert_exporter": "python",
   "pygments_lexer": "ipython3",
   "version": "3.7.4"
  }
 },
 "nbformat": 4,
 "nbformat_minor": 2
}
